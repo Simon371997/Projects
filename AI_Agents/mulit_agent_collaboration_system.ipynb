{
 "cells": [
  {
   "cell_type": "markdown",
   "metadata": {},
   "source": [
    "# History and Data Analysis Collaboration System"
   ]
  },
  {
   "cell_type": "markdown",
   "metadata": {},
   "source": [
    "## Overview\n",
    "\n",
    "This notebook implements a multi-agent collaboration system that combines historical research with data analysis to answer complex historical questions. It leverages the power of large language models to simulate specialized agents working together to provide comprehensive answers."
   ]
  },
  {
   "cell_type": "markdown",
   "metadata": {},
   "source": [
    "## Key Components\n",
    "\n",
    "1. Agent Class: A base class for creating specialized AI agents.\n",
    "2. HistoryResearchAgent: Specialized in historical context and trends.\n",
    "3. DataAnalysisAgent: Focused on interpreting numerical data and statistics.\n",
    "4. HistoryDataCollaborationSystem: Orchestrates the collaboration between agents."
   ]
  },
  {
   "cell_type": "markdown",
   "metadata": {},
   "source": [
    "## Methods Details\n",
    "\n",
    "1. Historical Context: The History Agent provides relevant historical background.\n",
    "2. Data Needs Identification: The Data Agent determines what quantitative information is needed.\n",
    "3. Historical Data Provision: The History Agent supplies relevant historical data.\n",
    "4. Data Analysis: The Data Agent interprets the provided historical data.\n",
    "5. Final Synthesis: The History Agent combines all insights into a comprehensive answer.\n",
    "\n",
    "This iterative process allows for a back-and-forth between historical context and data analysis, mimicking real-world collaborative research."
   ]
  },
  {
   "cell_type": "markdown",
   "metadata": {},
   "source": [
    "## Conclusion\n",
    "\n",
    "The History and Data Analysis Collaboration System demonstrates the potential of multi-agent AI systems in tackling complex, interdisciplinary questions. By combining the strengths of historical research and data analysis, it offers a novel approach to understanding historical trends and events. This system could be valuable for researchers, educators, and anyone interested in gaining deeper insights into historical topics.\n",
    "\n",
    "Future improvements could include adding more specialized agents, incorporating external data sources, and refining the collaboration process for even more nuanced analyses."
   ]
  },
  {
   "cell_type": "markdown",
   "metadata": {},
   "source": [
    "### Imports"
   ]
  },
  {
   "cell_type": "code",
   "execution_count": 4,
   "metadata": {},
   "outputs": [],
   "source": [
    "import os\n",
    "import time\n",
    "\n",
    "from langchain_openai import ChatOpenAI\n",
    "from langchain.schema import HumanMessage, SystemMessage, AIMessage\n",
    "from typing import List, Dict\n",
    "from dotenv import load_dotenv\n",
    "\n",
    "load_dotenv()\n",
    "openai_api_key = os.getenv(\"OPENAI_API_KEY\")"
   ]
  },
  {
   "cell_type": "markdown",
   "metadata": {},
   "source": [
    "### Inititalize Model"
   ]
  },
  {
   "cell_type": "code",
   "execution_count": 5,
   "metadata": {},
   "outputs": [],
   "source": [
    "llm = ChatOpenAI(api_key=openai_api_key, model=\"gpt-4o-mini\", max_tokens=1500, temperature=0.5)"
   ]
  },
  {
   "cell_type": "markdown",
   "metadata": {},
   "source": [
    "### Define the base Agent class"
   ]
  },
  {
   "cell_type": "code",
   "execution_count": 3,
   "metadata": {},
   "outputs": [],
   "source": [
    "class Agent:\n",
    "    def __init__(self, name: str, role: str, skills: List[str]):\n",
    "        self.name = name\n",
    "        self.role = role\n",
    "        self.skills = skills\n",
    "        self.llm = llm\n",
    "\n",
    "    def process(self, task: str, context: List[Dict] = None) -> str:\n",
    "        messages = [\n",
    "            SystemMessage(content=f\"You are {self.name}, a {self.role}. Your skills include: {', '.join(self.skills)}. Respond to the task based on your role and skills.\")\n",
    "        ]\n",
    "        \n",
    "        if context:\n",
    "            for msg in context:\n",
    "                if msg['role'] == 'human':\n",
    "                    messages.append(HumanMessage(content=msg['content']))\n",
    "                elif msg['role'] == 'ai':\n",
    "                    messages.append(AIMessage(content=msg['content']))\n",
    "        \n",
    "        messages.append(HumanMessage(content=task))\n",
    "        response = self.llm.invoke(messages)\n",
    "        return response.content"
   ]
  },
  {
   "cell_type": "markdown",
   "metadata": {},
   "source": [
    "### Define specialized Agents: HistoryResearch and DataAnalysis"
   ]
  },
  {
   "cell_type": "code",
   "execution_count": 6,
   "metadata": {},
   "outputs": [],
   "source": [
    "class HistoryResearchAgent(Agent):\n",
    "    def __init__(self):\n",
    "        super().__init__(\"Clio\", \"History Research Specialist\", [\"deep knowledge of historical events\", \"understanding of historical contexts\", \"identifying historical trends\"])\n",
    "\n",
    "class DataAnalysisAgent(Agent):\n",
    "    def __init__(self):\n",
    "        super().__init__(\"Data\", \"Data Analysis Expert\", [\"interpreting numerical data\", \"statistical analysis\", \"data visualization description\"])"
   ]
  },
  {
   "cell_type": "markdown",
   "metadata": {},
   "source": [
    "### Define different functions for collaboration"
   ]
  },
  {
   "cell_type": "markdown",
   "metadata": {},
   "source": [
    "#### Research Historical Context"
   ]
  },
  {
   "cell_type": "code",
   "execution_count": 7,
   "metadata": {},
   "outputs": [],
   "source": [
    "def research_historical_context(history_agent, task: str, context: list) -> list:\n",
    "    print(\"🏛️ History Agent: Researching historical context...\")\n",
    "    history_task = f\"Provide relevant historical context and information for the following task: {task}\"\n",
    "    history_result = history_agent.process(history_task)\n",
    "    context.append({\"role\": \"ai\", \"content\": f\"History Agent: {history_result}\"})\n",
    "    print(f\"📜 Historical context provided: {history_result[:100]}...\\n\")\n",
    "    return context"
   ]
  },
  {
   "cell_type": "markdown",
   "metadata": {},
   "source": [
    "#### Identify Data Needs"
   ]
  },
  {
   "cell_type": "code",
   "execution_count": 8,
   "metadata": {},
   "outputs": [],
   "source": [
    "def identify_data_needs(data_agent, task: str, context: list) -> list:\n",
    "    print(\"📊 Data Agent: Identifying data needs based on historical context...\")\n",
    "    historical_context = context[-1][\"content\"]\n",
    "    data_need_task = f\"Based on the historical context, what specific data or statistical information would be helpful to answer the original question? Historical context: {historical_context}\"\n",
    "    data_need_result = data_agent.process(data_need_task, context)\n",
    "    context.append({\"role\": \"ai\", \"content\": f\"Data Agent: {data_need_result}\"})\n",
    "    print(f\"🔍 Data needs identified: {data_need_result[:100]}...\\n\")\n",
    "    return context"
   ]
  },
  {
   "cell_type": "markdown",
   "metadata": {},
   "source": [
    "#### Provide Historical Data"
   ]
  },
  {
   "cell_type": "code",
   "execution_count": 9,
   "metadata": {},
   "outputs": [],
   "source": [
    "def provide_historical_data(history_agent, task: str, context: list) -> list:\n",
    "    print(\"🏛️ History Agent: Providing relevant historical data...\")\n",
    "    data_needs = context[-1][\"content\"]\n",
    "    data_provision_task = f\"Based on the data needs identified, provide relevant historical data or statistics. Data needs: {data_needs}\"\n",
    "    data_provision_result = history_agent.process(data_provision_task, context)\n",
    "    context.append({\"role\": \"ai\", \"content\": f\"History Agent: {data_provision_result}\"})\n",
    "    print(f\"📊 Historical data provided: {data_provision_result[:100]}...\\n\")\n",
    "    return context"
   ]
  },
  {
   "cell_type": "markdown",
   "metadata": {},
   "source": [
    "#### Analyze Data"
   ]
  },
  {
   "cell_type": "code",
   "execution_count": 10,
   "metadata": {},
   "outputs": [],
   "source": [
    "def analyze_data(data_agent, task: str, context: list) -> list:\n",
    "    print(\"📈 Data Agent: Analyzing historical data...\")\n",
    "    historical_data = context[-1][\"content\"]\n",
    "    analysis_task = f\"Analyze the historical data provided and describe any trends or insights relevant to the original task. Historical data: {historical_data}\"\n",
    "    analysis_result = data_agent.process(analysis_task, context)\n",
    "    context.append({\"role\": \"ai\", \"content\": f\"Data Agent: {analysis_result}\"})\n",
    "    print(f\"💡 Data analysis results: {analysis_result[:100]}...\\n\")\n",
    "    return context"
   ]
  },
  {
   "cell_type": "markdown",
   "metadata": {},
   "source": [
    "#### Synthesize Final Answer"
   ]
  },
  {
   "cell_type": "code",
   "execution_count": 11,
   "metadata": {},
   "outputs": [],
   "source": [
    "def synthesize_final_answer(history_agent, task: str, context: list) -> str:\n",
    "    print(\"🏛️ History Agent: Synthesizing final answer...\")\n",
    "    synthesis_task = \"Based on all the historical context, data, and analysis, provide a comprehensive answer to the original task.\"\n",
    "    final_result = history_agent.process(synthesis_task, context)\n",
    "    return final_result"
   ]
  },
  {
   "cell_type": "markdown",
   "metadata": {},
   "source": [
    "### HistoryDataCollaborationSystem Class"
   ]
  },
  {
   "cell_type": "code",
   "execution_count": 12,
   "metadata": {},
   "outputs": [],
   "source": [
    "class HistoryDataCollaborationSystem:\n",
    "    def __init__(self):\n",
    "        self.history_agent = Agent(\"Clio\", \"History Research Specialist\", [\"deep knowledge of historical events\", \"understanding of historical contexts\", \"identifying historical trends\"])\n",
    "        self.data_agent = Agent(\"Data\", \"Data Analysis Expert\", [\"interpreting numerical data\", \"statistical analysis\", \"data visualization description\"])\n",
    "\n",
    "    def solve(self, task: str, timeout: int = 300) -> str:\n",
    "        print(f\"\\n👥 Starting collaboration to solve: {task}\\n\")\n",
    "        \n",
    "        start_time = time.time()\n",
    "        context = []\n",
    "        \n",
    "        steps = [\n",
    "            (research_historical_context, self.history_agent),\n",
    "            (identify_data_needs, self.data_agent),\n",
    "            (provide_historical_data, self.history_agent),\n",
    "            (analyze_data, self.data_agent),\n",
    "            (synthesize_final_answer, self.history_agent)\n",
    "        ]\n",
    "        \n",
    "        for step_func, agent in steps:\n",
    "            if time.time() - start_time > timeout:\n",
    "                return \"Operation timed out. The process took too long to complete.\"\n",
    "            try:\n",
    "                result = step_func(agent, task, context)\n",
    "                if isinstance(result, str):\n",
    "                    return result  # This is the final answer\n",
    "                context = result\n",
    "            except Exception as e:\n",
    "                return f\"Error during collaboration: {str(e)}\"\n",
    "        \n",
    "        print(\"\\n✅ Collaboration complete. Final answer synthesized.\\n\")\n",
    "        return context[-1][\"content\"]"
   ]
  },
  {
   "cell_type": "markdown",
   "metadata": {},
   "source": [
    "## Usage (Example)"
   ]
  },
  {
   "cell_type": "code",
   "execution_count": 13,
   "metadata": {},
   "outputs": [
    {
     "name": "stdout",
     "output_type": "stream",
     "text": [
      "\n",
      "👥 Starting collaboration to solve: How did urbanization rates in Europe compare to those in North America during the Industrial Revolution, and what were the main factors influencing these trends?\n",
      "\n",
      "🏛️ History Agent: Researching historical context...\n",
      "📜 Historical context provided: The Industrial Revolution, which began in the late 18th century and continued into the 19th century,...\n",
      "\n",
      "📊 Data Agent: Identifying data needs based on historical context...\n",
      "🔍 Data needs identified: To effectively analyze the urbanization trends during the Industrial Revolution in Europe and North ...\n",
      "\n",
      "🏛️ History Agent: Providing relevant historical data...\n",
      "📊 Historical data provided: Certainly! Here are relevant historical data and statistics that align with the identified data need...\n",
      "\n",
      "📈 Data Agent: Analyzing historical data...\n",
      "💡 Data analysis results: Data Agent: Analyzing the historical data provided reveals several significant trends and insights r...\n",
      "\n",
      "🏛️ History Agent: Synthesizing final answer...\n",
      "Certainly! Here’s a comprehensive analysis of the urbanization trends during the Industrial Revolution in Europe and North America, integrating historical context, data, and analysis:\n",
      "\n",
      "### Urbanization Trends During the Industrial Revolution in Europe and North America\n",
      "\n",
      "The Industrial Revolution, spanning from the late 18th century to the 19th century, marked a profound transformation in both Europe and North America, characterized by a significant shift from agrarian economies to industrialized urban centers. This transition led to rapid urbanization, with both regions experiencing a surge in their urban populations, albeit at different rates and influenced by various factors.\n",
      "\n",
      "### Urbanization Rates\n",
      "\n",
      "1. **Europe:**\n",
      "   - **Urban Population Growth:**\n",
      "     - Britain was at the forefront of urbanization, with its urban population skyrocketing from 15% in 1801 to approximately 80% by 1901. Major cities like London, Manchester, and Birmingham became industrial powerhouses, with London’s population increasing from 1 million in 1801 to 6.5 million by 1901.\n",
      "     - Other European nations, such as Germany and France, also experienced urbanization, albeit at a slower pace. Germany’s urban population grew from 10% in 1800 to 50% by 1900, while France moved from 15% to 45%.\n",
      "\n",
      "2. **North America:**\n",
      "   - The United States saw a remarkable urbanization trend, with urban populations rising from 5% in 1800 to 40% by 1900. Cities like New York and Chicago expanded rapidly, with New York’s population growing from 60,000 in 1800 to 3.4 million by 1900.\n",
      "   - Canada, while slower in its urbanization, also saw significant growth, with urban populations increasing from 20% in 1861 to 40% by 1901.\n",
      "\n",
      "### Economic Influences\n",
      "\n",
      "1. **Job Opportunities:**\n",
      "   - The rise of factories created a demand for labor, attracting individuals from rural areas to urban centers. In Britain, the number of people employed in manufacturing surged from 1.5 million in 1851 to 4.5 million by 1901.\n",
      "   - In the United States, manufacturing jobs increased from 1.3 million in 1860 to 4.5 million by 1900, driven by industries such as textiles and steel.\n",
      "\n",
      "2. **Transportation Innovations:**\n",
      "   - The development of railways and canals was instrumental in facilitating urban growth. Britain’s railway network expanded to over 13,000 miles by 1870, while the completion of the Transcontinental Railroad in the U.S. in 1869 connected the eastern and western regions, enhancing trade and migration.\n",
      "\n",
      "### Immigration and Migration\n",
      "\n",
      "1. **Labor Supply:**\n",
      "   - The influx of immigrants significantly contributed to urbanization in North America. Between 1820 and 1900, approximately 15 million immigrants arrived in the U.S., many settling in cities where jobs were abundant. This immigration added diversity and cultural richness to urban centers.\n",
      "   - In Europe, internal migration from rural areas to cities was common, as people sought better economic prospects.\n",
      "\n",
      "### Social Changes\n",
      "\n",
      "1. **Class Structure:**\n",
      "   - The Industrial Revolution led to the emergence of a distinct working class, comprising about 70% of the population in Britain and 50% in the United States by 1900. Concurrently, a growing middle class began to shape urban society, accounting for around 15% of the population in Britain and 25% in the U.S.\n",
      "\n",
      "2. **Education and Literacy:**\n",
      "   - Literacy rates improved significantly during this period, with Britain’s literacy rate rising from approximately 50% in 1800 to 90% by 1900, and the U.S. reaching about 95% by 1900. This increase in education was essential for an increasingly industrialized society.\n",
      "\n",
      "### Health and Living Conditions\n",
      "\n",
      "1. **Challenges of Urban Life:**\n",
      "   - Rapid urbanization brought significant public health challenges. Cities faced issues like overcrowding and inadequate sanitation, leading to high mortality rates from diseases such as cholera. For instance, London experienced severe cholera outbreaks, while New York had an infant mortality rate of around 100 per 1,000 live births in 1900.\n",
      "   - Many urban households lived in poor conditions, with overcrowding being a significant issue; in Britain, about 30% of urban households were considered overcrowded by 1900.\n",
      "\n",
      "### Conclusion\n",
      "\n",
      "In summary, the urbanization trends during the Industrial Revolution in Europe and North America were marked by rapid population growth in urban areas, driven by economic opportunities, technological advancements, and significant immigration. While both regions experienced substantial urbanization, the rates and specific influences varied, with Britain leading the way due to its earlier industrialization.\n",
      "\n",
      "The transformation brought about by urbanization was multifaceted, resulting in economic growth and social change, but also posing significant public health challenges and altering the fabric of society. Understanding these trends provides valuable insights into the complexities of the Industrial Revolution and its lasting impact on modern urban landscapes and societal structures.\n"
     ]
    }
   ],
   "source": [
    "# Create an instance of the collaboration system\n",
    "collaboration_system = HistoryDataCollaborationSystem()\n",
    "\n",
    "# Define a complex historical question that requires both historical knowledge and data analysis\n",
    "question = \"How did urbanization rates in Europe compare to those in North America during the Industrial Revolution, and what were the main factors influencing these trends?\"\n",
    "\n",
    "# Solve the question using the collaboration system\n",
    "result = collaboration_system.solve(question)\n",
    "\n",
    "# Print the result\n",
    "print(result)"
   ]
  }
 ],
 "metadata": {
  "kernelspec": {
   "display_name": "env",
   "language": "python",
   "name": "python3"
  },
  "language_info": {
   "codemirror_mode": {
    "name": "ipython",
    "version": 3
   },
   "file_extension": ".py",
   "mimetype": "text/x-python",
   "name": "python",
   "nbconvert_exporter": "python",
   "pygments_lexer": "ipython3",
   "version": "3.11.9"
  }
 },
 "nbformat": 4,
 "nbformat_minor": 2
}
