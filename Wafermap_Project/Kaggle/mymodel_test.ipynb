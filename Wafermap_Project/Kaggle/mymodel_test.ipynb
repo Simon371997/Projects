{
 "cells": [
  {
   "cell_type": "code",
   "execution_count": 114,
   "id": "7e6039e2",
   "metadata": {},
   "outputs": [],
   "source": [
    "# Data Reading Modules\n",
    "import pandas as pd\n",
    "from torchvision.datasets import ImageFolder\n",
    "from PIL import Image\n",
    "\n",
    "# Data Visualization Modules\n",
    "import matplotlib.pyplot as plt\n",
    "\n",
    "# Data Manipulation Modules\n",
    "import numpy as np \n",
    "from sklearn.model_selection import train_test_split\n",
    "from torch.utils.data import DataLoader\n",
    "import torchvision.transforms as transforms\n",
    "\n",
    "# DL Modules\n",
    "import torch\n",
    "import torch.nn as nn\n",
    "import torch.nn.functional as F\n",
    "import torchvision\n",
    "import torch.optim as optim\n",
    "\n",
    "# Other Modules\n",
    "import time"
   ]
  },
  {
   "cell_type": "code",
   "execution_count": 39,
   "id": "ad30747e",
   "metadata": {},
   "outputs": [],
   "source": [
    "PATH_TO_IMAGEFOLDERS = './data/ImageData/balanced'"
   ]
  },
  {
   "cell_type": "code",
   "execution_count": 16,
   "id": "86fbe778",
   "metadata": {},
   "outputs": [],
   "source": [
    "# device config\n",
    "device = torch.device('cuda' if torch.cuda.is_available() else 'cpu')"
   ]
  },
  {
   "cell_type": "markdown",
   "id": "5cd75b04",
   "metadata": {},
   "source": [
    "### Data Loading + Transformation"
   ]
  },
  {
   "cell_type": "code",
   "execution_count": 90,
   "id": "f4264cce",
   "metadata": {},
   "outputs": [],
   "source": [
    "transform = transforms.Compose([transforms.ToTensor(),\n",
    "                               transforms.Resize((32, 32))\n",
    "                               ]) # Images already normalized"
   ]
  },
  {
   "cell_type": "code",
   "execution_count": 91,
   "id": "70789bd4",
   "metadata": {},
   "outputs": [],
   "source": [
    "dataset = ImageFolder(root = PATH_TO_IMAGEFOLDERS, transform = transform)"
   ]
  },
  {
   "cell_type": "code",
   "execution_count": 92,
   "id": "f998a024",
   "metadata": {},
   "outputs": [],
   "source": [
    "rest_data, test_data = train_test_split(dataset, test_size = 0.1, random_state=97)\n",
    "train_data, val_data = train_test_split(rest_data, test_size = 0.1, random_state=97)"
   ]
  },
  {
   "cell_type": "markdown",
   "id": "5c00c08c",
   "metadata": {},
   "source": [
    "#### 81% Train data, 9% Val data, 10% Test data"
   ]
  },
  {
   "cell_type": "code",
   "execution_count": 93,
   "id": "578959d1",
   "metadata": {},
   "outputs": [],
   "source": [
    "classes = ['Center', 'Donut', 'Edge-loc', 'Edge-ring', 'Loc', 'Near-Full', 'None', 'Random', 'Scratch']"
   ]
  },
  {
   "cell_type": "code",
   "execution_count": 119,
   "id": "d206f856",
   "metadata": {},
   "outputs": [],
   "source": [
    "BATCH_SIZE = 16\n",
    "NUM_EPOCHS = 30"
   ]
  },
  {
   "cell_type": "code",
   "execution_count": 95,
   "id": "a4908a9b",
   "metadata": {},
   "outputs": [],
   "source": [
    "train_loader = DataLoader(train_data, batch_size=BATCH_SIZE, shuffle=True)\n",
    "val_loader = DataLoader(val_data, batch_size=BATCH_SIZE, shuffle=True)\n",
    "test_loader = DataLoader(test_data, batch_size=BATCH_SIZE, shuffle=False)"
   ]
  },
  {
   "cell_type": "markdown",
   "id": "45805fcd",
   "metadata": {},
   "source": [
    "### Create Model"
   ]
  },
  {
   "cell_type": "code",
   "execution_count": 116,
   "id": "67d72a50",
   "metadata": {},
   "outputs": [],
   "source": [
    "class CNN(nn.Module):\n",
    "    def __init__(self, input_channels, num_classes):\n",
    "        super(CNN, self).__init__()\n",
    "        self.Conv1 = nn.Conv2d(in_channels=input_channels, out_channels=16, kernel_size=3)\n",
    "        self.pool = nn.MaxPool2d(kernel_size=(2,2))\n",
    "        self.Conv2 = nn.Conv2d(in_channels=16, out_channels=32, kernel_size=3)\n",
    "        self.fc1 = nn.Linear(in_features=32*6*6, out_features=64)\n",
    "        self.fc2 = nn.Linear(in_features=64, out_features=num_classes)\n",
    "        \n",
    "    def forward(self, x):\n",
    "        output = self.Conv1(x)\n",
    "        output = self.pool(output)\n",
    "        output = self.Conv2(output)\n",
    "        output = self.pool(output)\n",
    "        output = output.view(-1, 32 * 6 * 6) #flatten\n",
    "        output = F.relu(self.fc1(output))\n",
    "        output = self.fc2(output)\n",
    "        \n",
    "        return output\n",
    "\n",
    "    \n",
    "myCNN = CNN(input_channels=3, num_classes = len(classes))"
   ]
  },
  {
   "cell_type": "code",
   "execution_count": 117,
   "id": "db371837",
   "metadata": {},
   "outputs": [],
   "source": [
    "optimizer = optim.SGD(myCNN.parameters(), lr=0.001)\n",
    "criterion = nn.CrossEntropyLoss()"
   ]
  },
  {
   "cell_type": "markdown",
   "id": "487a7854",
   "metadata": {},
   "source": [
    "#### Training"
   ]
  },
  {
   "cell_type": "code",
   "execution_count": 118,
   "id": "11bd635d",
   "metadata": {},
   "outputs": [],
   "source": [
    "def train_model(model, num_epochs, criterion, optimizer, data):\n",
    "    start_time = time.time()\n",
    "    n_total_steps = (len(data))\n",
    "    model.train()\n",
    "    loss_history = []\n",
    "    \n",
    "    for epoch in range(num_epochs):\n",
    "        epoch_loss = 0.0\n",
    "        \n",
    "        for batch_id, (images, labels) in enumerate(data):\n",
    "            \n",
    "            outputs= model(images)\n",
    "            loss = criterion(outputs, labels)\n",
    "            \n",
    "            optimizer.zero_grad() #Gradienten zurücksetzen\n",
    "            loss.backward()\n",
    "            optimizer.step()\n",
    "            \n",
    "            epoch_loss += loss.item()\n",
    "            \n",
    "        \n",
    "            if (batch_id+1) % 100 == 0:\n",
    "                print(f'Epoch: {epoch+1}/{num_epochs}, step: {batch_id+1}/{n_total_steps}, loss = {loss.item():.4f}')\n",
    "                \n",
    "        avg_epoch_loss = epoch_loss /n_total_steps\n",
    "        loss_history.append(avg_epoch_loss)\n",
    "            \n",
    "            \n",
    "\n",
    "    end_time = time.time()\n",
    "    total_time = end_time-start_time\n",
    "    print(f'Training abgeschlossen in {total_time:.2f} Sekunden')\n",
    "    \n",
    "    #Plot für den Loss\n",
    "    plt.plot(loss_history)\n",
    "    plt.xlabel('Epoch')\n",
    "    plt.ylabel('Loss')\n",
    "    plt.xticks(range(1, num_epochs+1))\n",
    "    plt.title('Loss curve')\n",
    "    plt.show()"
   ]
  },
  {
   "cell_type": "code",
   "execution_count": 120,
   "id": "98233c5b",
   "metadata": {},
   "outputs": [
    {
     "name": "stdout",
     "output_type": "stream",
     "text": [
      "Epoch: 1/30, step: 100/187, loss = 2.2311\n",
      "Epoch: 2/30, step: 100/187, loss = 2.1570\n",
      "Epoch: 3/30, step: 100/187, loss = 2.1443\n",
      "Epoch: 4/30, step: 100/187, loss = 2.1613\n",
      "Epoch: 5/30, step: 100/187, loss = 2.0525\n",
      "Epoch: 6/30, step: 100/187, loss = 1.9698\n",
      "Epoch: 7/30, step: 100/187, loss = 1.9674\n",
      "Epoch: 8/30, step: 100/187, loss = 1.7338\n",
      "Epoch: 9/30, step: 100/187, loss = 1.6110\n",
      "Epoch: 10/30, step: 100/187, loss = 1.7842\n",
      "Epoch: 11/30, step: 100/187, loss = 1.5666\n",
      "Epoch: 12/30, step: 100/187, loss = 1.1825\n",
      "Epoch: 13/30, step: 100/187, loss = 1.3577\n",
      "Epoch: 14/30, step: 100/187, loss = 1.7094\n",
      "Epoch: 15/30, step: 100/187, loss = 1.5012\n",
      "Epoch: 16/30, step: 100/187, loss = 0.9994\n",
      "Epoch: 17/30, step: 100/187, loss = 1.1707\n",
      "Epoch: 18/30, step: 100/187, loss = 1.0359\n",
      "Epoch: 19/30, step: 100/187, loss = 0.7811\n",
      "Epoch: 20/30, step: 100/187, loss = 0.9843\n",
      "Epoch: 21/30, step: 100/187, loss = 0.8685\n",
      "Epoch: 22/30, step: 100/187, loss = 0.8088\n",
      "Epoch: 23/30, step: 100/187, loss = 0.7025\n",
      "Epoch: 24/30, step: 100/187, loss = 0.7345\n",
      "Epoch: 25/30, step: 100/187, loss = 0.5794\n",
      "Epoch: 26/30, step: 100/187, loss = 0.9175\n",
      "Epoch: 27/30, step: 100/187, loss = 0.8763\n",
      "Epoch: 28/30, step: 100/187, loss = 0.7006\n",
      "Epoch: 29/30, step: 100/187, loss = 1.0287\n",
      "Epoch: 30/30, step: 100/187, loss = 0.3383\n",
      "Training abgeschlossen in 15.57 Sekunden\n"
     ]
    },
    {
     "data": {
      "image/png": "[encoded data removed]",
      "text/plain": [
       "<Figure size 640x480 with 1 Axes>"
      ]
     },
     "metadata": {},
     "output_type": "display_data"
    }
   ],
   "source": [
    "train_model(model=myCNN, num_epochs=NUM_EPOCHS, criterion=criterion, optimizer=optimizer, data=train_loader)"
   ]
  },
  {
   "cell_type": "code",
   "execution_count": 134,
   "id": "8a1fd853",
   "metadata": {},
   "outputs": [
    {
     "name": "stdout",
     "output_type": "stream",
     "text": [
      "Accuracy auf dem Trainingsdatensatz: 74.23%\n"
     ]
    }
   ],
   "source": [
    "num_correct = 0\n",
    "num_samples = 0\n",
    "n_class_correct = 0\n",
    "n_class_samples = 0\n",
    "with torch.no_grad():  # Deaktivieren des Gradienten-Tracking, um Speicher zu sparen\n",
    "    for images, labels in train_loader:\n",
    "        outputs = myCNN(images)\n",
    "        _, predicted = torch.max(outputs, 1) #torch.max returns (value, index)\n",
    "        num_correct += (predicted == labels).sum().item()\n",
    "        num_samples += labels.size(0)\n",
    "        \n",
    "            \n",
    "    accuracy = num_correct / num_samples\n",
    "    print(f'Accuracy auf dem Trainingsdatensatz: {100 * accuracy:.2f}%')\n",
    "    \n",
    "   "
   ]
  },
  {
   "cell_type": "code",
   "execution_count": null,
   "id": "a7996861",
   "metadata": {},
   "outputs": [],
   "source": []
  }
 ],
 "metadata": {
  "kernelspec": {
   "display_name": "Python 3 (ipykernel)",
   "language": "python",
   "name": "python3"
  },
  "language_info": {
   "codemirror_mode": {
    "name": "ipython",
    "version": 3
   },
   "file_extension": ".py",
   "mimetype": "text/x-python",
   "name": "python",
   "nbconvert_exporter": "python",
   "pygments_lexer": "ipython3",
   "version": "3.9.12"
  }
 },
 "nbformat": 4,
 "nbformat_minor": 5
}
