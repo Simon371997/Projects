{
 "cells": [
  {
   "cell_type": "code",
   "execution_count": 1,
   "id": "7e6039e2",
   "metadata": {},
   "outputs": [],
   "source": [
    "# Data Reading Modules\n",
    "import pandas as pd\n",
    "from torchvision.datasets import ImageFolder\n",
    "from PIL import Image\n",
    "\n",
    "# Data Visualization Modules\n",
    "import matplotlib.pyplot as plt\n",
    "\n",
    "# Data Manipulation Modules\n",
    "import numpy as np \n",
    "from sklearn.model_selection import train_test_split\n",
    "from torch.utils.data import DataLoader\n",
    "import torchvision.transforms as transforms\n",
    "\n",
    "# DL Modules\n",
    "import torch\n",
    "import torch.nn as nn\n",
    "import torch.nn.functional as F\n",
    "import torchvision\n",
    "import torch.optim as optim\n",
    "\n",
    "# Other Modules\n",
    "import time"
   ]
  },
  {
   "cell_type": "code",
   "execution_count": 2,
   "id": "ad30747e",
   "metadata": {},
   "outputs": [],
   "source": [
    "PATH_TO_IMAGEFOLDERS = './data/ImageData/balanced'"
   ]
  },
  {
   "cell_type": "code",
   "execution_count": 3,
   "id": "86fbe778",
   "metadata": {},
   "outputs": [],
   "source": [
    "# device config\n",
    "device = torch.device('cuda' if torch.cuda.is_available() else 'cpu')"
   ]
  },
  {
   "cell_type": "markdown",
   "id": "5cd75b04",
   "metadata": {},
   "source": [
    "### Data Loading + Transformation"
   ]
  },
  {
   "cell_type": "code",
   "execution_count": 4,
   "id": "f4264cce",
   "metadata": {},
   "outputs": [],
   "source": [
    "transform = transforms.Compose([transforms.ToTensor(),\n",
    "                               transforms.Resize((32, 32))\n",
    "                               ]) # Images already normalized"
   ]
  },
  {
   "cell_type": "code",
   "execution_count": 5,
   "id": "70789bd4",
   "metadata": {},
   "outputs": [],
   "source": [
    "dataset = ImageFolder(root = PATH_TO_IMAGEFOLDERS, transform = transform)"
   ]
  },
  {
   "cell_type": "code",
   "execution_count": 6,
   "id": "f998a024",
   "metadata": {},
   "outputs": [
    {
     "name": "stderr",
     "output_type": "stream",
     "text": [
      "/Users/simon/opt/anaconda3/lib/python3.9/site-packages/torchvision/transforms/functional.py:1603: UserWarning: The default value of the antialias parameter of all the resizing transforms (Resize(), RandomResizedCrop(), etc.) will change from None to True in v0.17, in order to be consistent across the PIL and Tensor backends. To suppress this warning, directly pass antialias=True (recommended, future default), antialias=None (current default, which means False for Tensors and True for PIL), or antialias=False (only works on Tensors - PIL will still use antialiasing). This also applies if you are using the inference transforms from the models weights: update the call to weights.transforms(antialias=True).\n",
      "  warnings.warn(\n"
     ]
    }
   ],
   "source": [
    "rest_data, test_data = train_test_split(dataset, test_size = 0.1, random_state=97)\n",
    "train_data, val_data = train_test_split(rest_data, test_size = 0.1, random_state=97)"
   ]
  },
  {
   "cell_type": "markdown",
   "id": "5c00c08c",
   "metadata": {},
   "source": [
    "#### 81% Train data, 9% Val data, 10% Test data"
   ]
  },
  {
   "cell_type": "code",
   "execution_count": 7,
   "id": "578959d1",
   "metadata": {},
   "outputs": [],
   "source": [
    "classes = ['Center', 'Donut', 'Edge-loc', 'Edge-ring', 'Loc', 'Near-Full', 'None', 'Random', 'Scratch']"
   ]
  },
  {
   "cell_type": "code",
   "execution_count": 8,
   "id": "d206f856",
   "metadata": {},
   "outputs": [],
   "source": [
    "BATCH_SIZE = 16\n",
    "NUM_EPOCHS = 100"
   ]
  },
  {
   "cell_type": "code",
   "execution_count": 9,
   "id": "a4908a9b",
   "metadata": {},
   "outputs": [],
   "source": [
    "train_loader = DataLoader(train_data, batch_size=BATCH_SIZE, shuffle=True)\n",
    "val_loader = DataLoader(val_data, batch_size=BATCH_SIZE, shuffle=True)\n",
    "test_loader = DataLoader(test_data, batch_size=BATCH_SIZE, shuffle=False)"
   ]
  },
  {
   "cell_type": "markdown",
   "id": "0855efc1",
   "metadata": {},
   "source": [
    "### Functions for Training & Evaluation"
   ]
  },
  {
   "cell_type": "code",
   "execution_count": 10,
   "id": "11bd635d",
   "metadata": {},
   "outputs": [],
   "source": [
    "def train_model(model, num_epochs, criterion, optimizer, data):\n",
    "    start_time = time.time()\n",
    "    n_total_steps = (len(data))\n",
    "    model.train()\n",
    "    loss_history = []\n",
    "    \n",
    "    for epoch in range(num_epochs):\n",
    "        epoch_loss = 0.0\n",
    "        \n",
    "        for batch_id, (images, labels) in enumerate(data):\n",
    "            \n",
    "            outputs= model(images)\n",
    "            loss = criterion(outputs, labels)\n",
    "            \n",
    "            optimizer.zero_grad() #Gradienten zurücksetzen\n",
    "            loss.backward()\n",
    "            optimizer.step()\n",
    "            \n",
    "            epoch_loss += loss.item()\n",
    "            \n",
    "        \n",
    "            if (batch_id+1) % 100 == 0:\n",
    "                print(f'Epoch: {epoch+1}/{num_epochs}, step: {batch_id+1}/{n_total_steps}, loss = {loss.item():.4f}')\n",
    "                \n",
    "        avg_epoch_loss = epoch_loss /n_total_steps\n",
    "        loss_history.append(avg_epoch_loss)\n",
    "            \n",
    "            \n",
    "\n",
    "    end_time = time.time()\n",
    "    total_time = end_time-start_time\n",
    "    print(f'Training abgeschlossen in {total_time:.2f} Sekunden')\n",
    "    \n",
    "    #Plot für den Loss\n",
    "    plt.plot(loss_history)\n",
    "    plt.xlabel('Epoch')\n",
    "    plt.ylabel('Loss')\n",
    "    plt.xticks(range(1, num_epochs+1, 2))\n",
    "    plt.title('Loss curve')\n",
    "    plt.show()"
   ]
  },
  {
   "cell_type": "code",
   "execution_count": 11,
   "id": "8a1fd853",
   "metadata": {},
   "outputs": [],
   "source": [
    "def evaluate(model, test_loader):\n",
    "    \n",
    "    num_correct = 0\n",
    "    num_samples = 0\n",
    "    n_class_correct = 0\n",
    "    n_class_samples = 0\n",
    "    with torch.no_grad():  # Deaktivieren des Gradienten-Tracking, um Speicher zu sparen\n",
    "        for images, labels in test_loader:\n",
    "            outputs = model(images)\n",
    "            _, predicted = torch.max(outputs, 1) #torch.max returns (value, index)\n",
    "            num_correct += (predicted == labels).sum().item()\n",
    "            num_samples += labels.size(0)\n",
    "\n",
    "\n",
    "        accuracy = num_correct / num_samples\n",
    "        print(f'Accuracy auf den Testdatensatz {100 * accuracy:.2f}%')\n",
    "\n"
   ]
  },
  {
   "cell_type": "markdown",
   "id": "45805fcd",
   "metadata": {},
   "source": [
    "### Create Models"
   ]
  },
  {
   "cell_type": "markdown",
   "id": "35ea39fe",
   "metadata": {},
   "source": [
    "#### Möglichkeiten um Training besser und stabiler zu machen:\n",
    "- Dropout Rate\n",
    "- Batch Normalization\n",
    "- Lernratenplaner\n",
    "- HorizontalFlip etc"
   ]
  },
  {
   "cell_type": "code",
   "execution_count": 15,
   "id": "bcaae6ae",
   "metadata": {},
   "outputs": [],
   "source": [
    "class CNN(nn.Module):\n",
    "    def __init__(self, input_channels, num_classes):\n",
    "        super(CNN, self).__init__()\n",
    "        self.Conv1 = nn.Conv2d(in_channels=input_channels, out_channels=16, kernel_size=3)\n",
    "        self.pool = nn.MaxPool2d(kernel_size=(2,2))\n",
    "        self.Conv2 = nn.Conv2d(in_channels=16, out_channels=32, kernel_size=3)\n",
    "        self.fc1 = nn.Linear(in_features=32*13*13, out_features=64)\n",
    "        self.dropout = nn.Dropout(0.25)\n",
    "        self.fc2 = nn.Linear(in_features=64, out_features=num_classes)\n",
    "        \n",
    "    def forward(self, x):\n",
    "        output = self.Conv1(x)\n",
    "        output = self.pool(output)\n",
    "        output = self.Conv2(output)\n",
    "        output = output.view(-1, 32 * 13 * 13) #flatten\n",
    "        output = F.relu(self.fc1(output))\n",
    "        output = self.dropout(output)\n",
    "        output = self.fc2(output)\n",
    "        \n",
    "        return output\n",
    "\n",
    "    \n",
    "CNN3 = CNN(input_channels=3, num_classes = len(classes))\n",
    "optimizer3 = optim.SGD(CNN3.parameters(), lr=0.002)\n",
    "criterion3 = nn.CrossEntropyLoss()"
   ]
  },
  {
   "cell_type": "code",
   "execution_count": 16,
   "id": "dd3f596f",
   "metadata": {},
   "outputs": [
    {
     "name": "stdout",
     "output_type": "stream",
     "text": [
      "Epoch: 1/100, step: 100/187, loss = 2.1722\n",
      "Epoch: 2/100, step: 100/187, loss = 1.6600\n",
      "Epoch: 3/100, step: 100/187, loss = 1.4671\n",
      "Epoch: 4/100, step: 100/187, loss = 0.9587\n",
      "Epoch: 5/100, step: 100/187, loss = 0.8731\n",
      "Epoch: 6/100, step: 100/187, loss = 0.7672\n",
      "Epoch: 7/100, step: 100/187, loss = 0.7927\n",
      "Epoch: 8/100, step: 100/187, loss = 0.9870\n",
      "Epoch: 9/100, step: 100/187, loss = 1.0240\n",
      "Epoch: 10/100, step: 100/187, loss = 0.6423\n",
      "Epoch: 11/100, step: 100/187, loss = 0.5627\n",
      "Epoch: 12/100, step: 100/187, loss = 0.6253\n",
      "Epoch: 13/100, step: 100/187, loss = 1.0032\n",
      "Epoch: 14/100, step: 100/187, loss = 0.6634\n",
      "Epoch: 15/100, step: 100/187, loss = 0.4946\n",
      "Epoch: 16/100, step: 100/187, loss = 0.2176\n",
      "Epoch: 17/100, step: 100/187, loss = 0.2649\n",
      "Epoch: 18/100, step: 100/187, loss = 0.8088\n",
      "Epoch: 19/100, step: 100/187, loss = 0.2127\n",
      "Epoch: 20/100, step: 100/187, loss = 0.2977\n",
      "Epoch: 21/100, step: 100/187, loss = 0.8243\n",
      "Epoch: 22/100, step: 100/187, loss = 0.5066\n",
      "Epoch: 23/100, step: 100/187, loss = 0.4796\n",
      "Epoch: 24/100, step: 100/187, loss = 0.5721\n",
      "Epoch: 25/100, step: 100/187, loss = 0.6950\n",
      "Epoch: 26/100, step: 100/187, loss = 0.4346\n",
      "Epoch: 27/100, step: 100/187, loss = 0.3036\n",
      "Epoch: 28/100, step: 100/187, loss = 0.2684\n",
      "Epoch: 29/100, step: 100/187, loss = 0.3691\n",
      "Epoch: 30/100, step: 100/187, loss = 0.4268\n",
      "Epoch: 31/100, step: 100/187, loss = 0.2206\n",
      "Epoch: 32/100, step: 100/187, loss = 0.2723\n",
      "Epoch: 33/100, step: 100/187, loss = 0.6916\n",
      "Epoch: 34/100, step: 100/187, loss = 0.7294\n",
      "Epoch: 35/100, step: 100/187, loss = 0.2155\n",
      "Epoch: 36/100, step: 100/187, loss = 0.2564\n",
      "Epoch: 37/100, step: 100/187, loss = 0.1871\n",
      "Epoch: 38/100, step: 100/187, loss = 0.5956\n",
      "Epoch: 39/100, step: 100/187, loss = 0.2818\n",
      "Epoch: 40/100, step: 100/187, loss = 0.5632\n",
      "Epoch: 41/100, step: 100/187, loss = 0.4831\n",
      "Epoch: 42/100, step: 100/187, loss = 0.5782\n",
      "Epoch: 43/100, step: 100/187, loss = 0.4460\n",
      "Epoch: 44/100, step: 100/187, loss = 0.4263\n",
      "Epoch: 45/100, step: 100/187, loss = 0.1566\n",
      "Epoch: 46/100, step: 100/187, loss = 0.1004\n",
      "Epoch: 47/100, step: 100/187, loss = 0.3832\n",
      "Epoch: 48/100, step: 100/187, loss = 0.4843\n",
      "Epoch: 49/100, step: 100/187, loss = 0.4140\n",
      "Epoch: 50/100, step: 100/187, loss = 0.6713\n",
      "Epoch: 51/100, step: 100/187, loss = 0.3813\n",
      "Epoch: 52/100, step: 100/187, loss = 0.3084\n",
      "Epoch: 53/100, step: 100/187, loss = 0.2490\n",
      "Epoch: 54/100, step: 100/187, loss = 0.2773\n",
      "Epoch: 55/100, step: 100/187, loss = 0.5294\n",
      "Epoch: 56/100, step: 100/187, loss = 0.6101\n",
      "Epoch: 57/100, step: 100/187, loss = 0.7248\n",
      "Epoch: 58/100, step: 100/187, loss = 0.4962\n",
      "Epoch: 59/100, step: 100/187, loss = 0.3391\n",
      "Epoch: 60/100, step: 100/187, loss = 0.2627\n",
      "Epoch: 61/100, step: 100/187, loss = 0.4089\n",
      "Epoch: 62/100, step: 100/187, loss = 0.4238\n",
      "Epoch: 63/100, step: 100/187, loss = 0.4606\n",
      "Epoch: 64/100, step: 100/187, loss = 0.1608\n",
      "Epoch: 65/100, step: 100/187, loss = 0.1825\n",
      "Epoch: 66/100, step: 100/187, loss = 0.2026\n",
      "Epoch: 67/100, step: 100/187, loss = 0.3032\n",
      "Epoch: 68/100, step: 100/187, loss = 0.1174\n",
      "Epoch: 69/100, step: 100/187, loss = 0.4217\n",
      "Epoch: 70/100, step: 100/187, loss = 0.3704\n",
      "Epoch: 71/100, step: 100/187, loss = 0.1991\n",
      "Epoch: 72/100, step: 100/187, loss = 0.2343\n",
      "Epoch: 73/100, step: 100/187, loss = 0.5468\n",
      "Epoch: 74/100, step: 100/187, loss = 0.2732\n",
      "Epoch: 75/100, step: 100/187, loss = 0.3977\n",
      "Epoch: 76/100, step: 100/187, loss = 0.1127\n",
      "Epoch: 77/100, step: 100/187, loss = 0.4392\n",
      "Epoch: 78/100, step: 100/187, loss = 0.2973\n",
      "Epoch: 79/100, step: 100/187, loss = 0.1765\n",
      "Epoch: 80/100, step: 100/187, loss = 0.1536\n",
      "Epoch: 81/100, step: 100/187, loss = 0.2529\n",
      "Epoch: 82/100, step: 100/187, loss = 0.3320\n",
      "Epoch: 83/100, step: 100/187, loss = 0.0717\n",
      "Epoch: 84/100, step: 100/187, loss = 0.3063\n",
      "Epoch: 85/100, step: 100/187, loss = 0.4408\n",
      "Epoch: 86/100, step: 100/187, loss = 0.2291\n",
      "Epoch: 87/100, step: 100/187, loss = 0.1888\n",
      "Epoch: 88/100, step: 100/187, loss = 0.1960\n",
      "Epoch: 89/100, step: 100/187, loss = 0.4909\n",
      "Epoch: 90/100, step: 100/187, loss = 0.3840\n",
      "Epoch: 91/100, step: 100/187, loss = 0.0811\n",
      "Epoch: 92/100, step: 100/187, loss = 0.3885\n",
      "Epoch: 93/100, step: 100/187, loss = 0.0900\n",
      "Epoch: 94/100, step: 100/187, loss = 0.3143\n",
      "Epoch: 95/100, step: 100/187, loss = 0.0963\n",
      "Epoch: 96/100, step: 100/187, loss = 0.3450\n",
      "Epoch: 97/100, step: 100/187, loss = 0.1028\n",
      "Epoch: 98/100, step: 100/187, loss = 0.1644\n",
      "Epoch: 99/100, step: 100/187, loss = 0.6141\n",
      "Epoch: 100/100, step: 100/187, loss = 0.1505\n",
      "Training abgeschlossen in 152.11 Sekunden\n"
     ]
    },
    {
     "data": {
      "image/png": "[encoded data removed]",
      "text/plain": [
       "<Figure size 640x480 with 1 Axes>"
      ]
     },
     "metadata": {},
     "output_type": "display_data"
    }
   ],
   "source": [
    "train_model(model=CNN3, num_epochs=NUM_EPOCHS, criterion=criterion3, optimizer=optimizer3, data=train_loader)"
   ]
  },
  {
   "cell_type": "code",
   "execution_count": 18,
   "id": "df1bb781",
   "metadata": {},
   "outputs": [
    {
     "name": "stdout",
     "output_type": "stream",
     "text": [
      "Accuracy auf den Testdatensatz 91.06%\n"
     ]
    }
   ],
   "source": [
    "evaluate(CNN3, test_loader) #91.6"
   ]
  },
  {
   "cell_type": "code",
   "execution_count": 19,
   "id": "62c233fc",
   "metadata": {},
   "outputs": [],
   "source": [
    "torch.save(CNN3,'/Users/simon/Documents/Master/Sonstiges/Python/Projects/Wafermap_Project/App/CNN.pth')"
   ]
  },
  {
   "cell_type": "code",
   "execution_count": null,
   "id": "dbdd6385",
   "metadata": {},
   "outputs": [],
   "source": []
  }
 ],
 "metadata": {
  "kernelspec": {
   "display_name": "Python 3 (ipykernel)",
   "language": "python",
   "name": "python3"
  },
  "language_info": {
   "codemirror_mode": {
    "name": "ipython",
    "version": 3
   },
   "file_extension": ".py",
   "mimetype": "text/x-python",
   "name": "python",
   "nbconvert_exporter": "python",
   "pygments_lexer": "ipython3",
   "version": "3.9.12"
  }
 },
 "nbformat": 4,
 "nbformat_minor": 5
}
