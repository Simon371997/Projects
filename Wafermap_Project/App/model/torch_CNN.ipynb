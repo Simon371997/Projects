{
 "cells": [
  {
   "cell_type": "code",
   "execution_count": 1,
   "id": "7e6039e2",
   "metadata": {},
   "outputs": [],
   "source": [
    "# Data Reading Modules\n",
    "import pandas as pd\n",
    "from torchvision.datasets import ImageFolder\n",
    "from PIL import Image\n",
    "\n",
    "# Data Visualization Modules\n",
    "import matplotlib.pyplot as plt\n",
    "\n",
    "# Data Manipulation Modules\n",
    "import numpy as np \n",
    "from sklearn.model_selection import train_test_split\n",
    "from torch.utils.data import DataLoader\n",
    "import torchvision.transforms as transforms\n",
    "\n",
    "# DL Modules\n",
    "import torch\n",
    "import torch.nn as nn\n",
    "import torch.nn.functional as F\n",
    "import torchvision\n",
    "import torch.optim as optim\n",
    "\n",
    "# Other Modules\n",
    "import time"
   ]
  },
  {
   "cell_type": "code",
   "execution_count": 2,
   "id": "ad30747e",
   "metadata": {},
   "outputs": [],
   "source": [
    "PATH_TO_IMAGEFOLDERS = './data/ImageData/balanced'"
   ]
  },
  {
   "cell_type": "code",
   "execution_count": 3,
   "id": "86fbe778",
   "metadata": {},
   "outputs": [],
   "source": [
    "# device config\n",
    "device = torch.device('cuda' if torch.cuda.is_available() else 'cpu')"
   ]
  },
  {
   "cell_type": "markdown",
   "id": "5cd75b04",
   "metadata": {},
   "source": [
    "### Data Loading + Transformation"
   ]
  },
  {
   "cell_type": "code",
   "execution_count": 4,
   "id": "f4264cce",
   "metadata": {},
   "outputs": [],
   "source": [
    "transform = transforms.Compose([transforms.ToTensor(),\n",
    "                               transforms.Resize((32, 32))\n",
    "                               ]) # Images already normalized"
   ]
  },
  {
   "cell_type": "code",
   "execution_count": 5,
   "id": "70789bd4",
   "metadata": {},
   "outputs": [],
   "source": [
    "dataset = ImageFolder(root = PATH_TO_IMAGEFOLDERS, transform = transform)"
   ]
  },
  {
   "cell_type": "code",
   "execution_count": 6,
   "id": "f998a024",
   "metadata": {},
   "outputs": [
    {
     "name": "stderr",
     "output_type": "stream",
     "text": [
      "/Users/simon/opt/anaconda3/lib/python3.9/site-packages/torchvision/transforms/functional.py:1603: UserWarning: The default value of the antialias parameter of all the resizing transforms (Resize(), RandomResizedCrop(), etc.) will change from None to True in v0.17, in order to be consistent across the PIL and Tensor backends. To suppress this warning, directly pass antialias=True (recommended, future default), antialias=None (current default, which means False for Tensors and True for PIL), or antialias=False (only works on Tensors - PIL will still use antialiasing). This also applies if you are using the inference transforms from the models weights: update the call to weights.transforms(antialias=True).\n",
      "  warnings.warn(\n"
     ]
    }
   ],
   "source": [
    "rest_data, test_data = train_test_split(dataset, test_size = 0.1, random_state=97)\n",
    "train_data, val_data = train_test_split(rest_data, test_size = 0.1, random_state=97)"
   ]
  },
  {
   "cell_type": "markdown",
   "id": "5c00c08c",
   "metadata": {},
   "source": [
    "#### 81% Train data, 9% Val data, 10% Test data"
   ]
  },
  {
   "cell_type": "code",
   "execution_count": 7,
   "id": "578959d1",
   "metadata": {},
   "outputs": [],
   "source": [
    "classes = ['Center', 'Donut', 'Edge-loc', 'Edge-ring', 'Loc', 'Near-Full', 'None', 'Random', 'Scratch']"
   ]
  },
  {
   "cell_type": "code",
   "execution_count": 8,
   "id": "d206f856",
   "metadata": {},
   "outputs": [],
   "source": [
    "BATCH_SIZE = 16\n",
    "NUM_EPOCHS = 100"
   ]
  },
  {
   "cell_type": "code",
   "execution_count": 9,
   "id": "a4908a9b",
   "metadata": {},
   "outputs": [],
   "source": [
    "train_loader = DataLoader(train_data, batch_size=BATCH_SIZE, shuffle=True)\n",
    "val_loader = DataLoader(val_data, batch_size=BATCH_SIZE, shuffle=True)\n",
    "test_loader = DataLoader(test_data, batch_size=BATCH_SIZE, shuffle=False)"
   ]
  },
  {
   "cell_type": "markdown",
   "id": "0855efc1",
   "metadata": {},
   "source": [
    "### Functions for Training & Evaluation"
   ]
  },
  {
   "cell_type": "code",
   "execution_count": 10,
   "id": "11bd635d",
   "metadata": {},
   "outputs": [],
   "source": [
    "def train_model(model, num_epochs, criterion, optimizer, data):\n",
    "    start_time = time.time()\n",
    "    n_total_steps = (len(data))\n",
    "    model.train()\n",
    "    loss_history = []\n",
    "    \n",
    "    for epoch in range(num_epochs):\n",
    "        epoch_loss = 0.0\n",
    "        \n",
    "        for batch_id, (images, labels) in enumerate(data):\n",
    "            \n",
    "            outputs= model(images)\n",
    "            loss = criterion(outputs, labels)\n",
    "            \n",
    "            optimizer.zero_grad() #Gradienten zurücksetzen\n",
    "            loss.backward()\n",
    "            optimizer.step()\n",
    "            \n",
    "            epoch_loss += loss.item()\n",
    "            \n",
    "        \n",
    "            if (batch_id+1) % 100 == 0:\n",
    "                print(f'Epoch: {epoch+1}/{num_epochs}, step: {batch_id+1}/{n_total_steps}, loss = {loss.item():.4f}')\n",
    "                \n",
    "        avg_epoch_loss = epoch_loss /n_total_steps\n",
    "        loss_history.append(avg_epoch_loss)\n",
    "            \n",
    "            \n",
    "\n",
    "    end_time = time.time()\n",
    "    total_time = end_time-start_time\n",
    "    print(f'Training abgeschlossen in {total_time:.2f} Sekunden')\n",
    "    \n",
    "    #Plot für den Loss\n",
    "    plt.plot(loss_history)\n",
    "    plt.xlabel('Epoch')\n",
    "    plt.ylabel('Loss')\n",
    "    plt.xticks(range(1, num_epochs+1, 2))\n",
    "    plt.title('Loss curve')\n",
    "    plt.show()"
   ]
  },
  {
   "cell_type": "code",
   "execution_count": 11,
   "id": "8a1fd853",
   "metadata": {},
   "outputs": [],
   "source": [
    "def evaluate(model, test_loader):\n",
    "    \n",
    "    num_correct = 0\n",
    "    num_samples = 0\n",
    "    n_class_correct = 0\n",
    "    n_class_samples = 0\n",
    "    with torch.no_grad():  # Deaktivieren des Gradienten-Tracking, um Speicher zu sparen\n",
    "        for images, labels in test_loader:\n",
    "            outputs = model(images)\n",
    "            _, predicted = torch.max(outputs, 1) #torch.max returns (value, index)\n",
    "            num_correct += (predicted == labels).sum().item()\n",
    "            num_samples += labels.size(0)\n",
    "\n",
    "\n",
    "        accuracy = num_correct / num_samples\n",
    "        print(f'Accuracy auf den Testdatensatz {100 * accuracy:.2f}%')\n",
    "\n"
   ]
  },
  {
   "cell_type": "markdown",
   "id": "45805fcd",
   "metadata": {},
   "source": [
    "### Create Models"
   ]
  },
  {
   "cell_type": "markdown",
   "id": "35ea39fe",
   "metadata": {},
   "source": [
    "#### Möglichkeiten um Training besser und stabiler zu machen:\n",
    "- Dropout Rate\n",
    "- Batch Normalization\n",
    "- Lernratenplaner\n",
    "- HorizontalFlip etc"
   ]
  },
  {
   "cell_type": "code",
   "execution_count": 12,
   "id": "bcaae6ae",
   "metadata": {},
   "outputs": [],
   "source": [
    "class CNN(nn.Module):\n",
    "    def __init__(self, input_channels, num_classes):\n",
    "        super(CNN, self).__init__()\n",
    "        self.Conv1 = nn.Conv2d(in_channels=input_channels, out_channels=16, kernel_size=3)\n",
    "        self.pool = nn.MaxPool2d(kernel_size=(2,2))\n",
    "        self.Conv2 = nn.Conv2d(in_channels=16, out_channels=32, kernel_size=3)\n",
    "        self.fc1 = nn.Linear(in_features=32*13*13, out_features=64)\n",
    "        self.dropout = nn.Dropout(0.25)\n",
    "        self.fc2 = nn.Linear(in_features=64, out_features=num_classes)\n",
    "        \n",
    "    def forward(self, x):\n",
    "        output = self.Conv1(x)\n",
    "        output = self.pool(output)\n",
    "        output = self.Conv2(output)\n",
    "        output = output.view(-1, 32 * 13 * 13) #flatten\n",
    "        output = F.relu(self.fc1(output))\n",
    "        output = self.dropout(output)\n",
    "        output = self.fc2(output)\n",
    "        \n",
    "        return output\n",
    "\n",
    "    \n",
    "model = CNN(input_channels=3, num_classes = len(classes))\n",
    "optimizer = optim.SGD(model.parameters(), lr=0.002)\n",
    "criterion = nn.CrossEntropyLoss()"
   ]
  },
  {
   "cell_type": "code",
   "execution_count": 13,
   "id": "dd3f596f",
   "metadata": {},
   "outputs": [
    {
     "name": "stdout",
     "output_type": "stream",
     "text": [
      "Epoch: 1/100, step: 100/187, loss = 2.1873\n",
      "Epoch: 2/100, step: 100/187, loss = 2.1615\n",
      "Epoch: 3/100, step: 100/187, loss = 1.7167\n",
      "Epoch: 4/100, step: 100/187, loss = 1.5473\n",
      "Epoch: 5/100, step: 100/187, loss = 1.5833\n",
      "Epoch: 6/100, step: 100/187, loss = 1.4073\n",
      "Epoch: 7/100, step: 100/187, loss = 1.3505\n",
      "Epoch: 8/100, step: 100/187, loss = 1.2446\n",
      "Epoch: 9/100, step: 100/187, loss = 0.8982\n",
      "Epoch: 10/100, step: 100/187, loss = 1.1442\n",
      "Epoch: 11/100, step: 100/187, loss = 0.5149\n",
      "Epoch: 12/100, step: 100/187, loss = 0.9283\n",
      "Epoch: 13/100, step: 100/187, loss = 0.4327\n",
      "Epoch: 14/100, step: 100/187, loss = 0.4217\n",
      "Epoch: 15/100, step: 100/187, loss = 0.8135\n",
      "Epoch: 16/100, step: 100/187, loss = 0.8058\n",
      "Epoch: 17/100, step: 100/187, loss = 1.0092\n",
      "Epoch: 18/100, step: 100/187, loss = 1.3155\n",
      "Epoch: 19/100, step: 100/187, loss = 0.4812\n",
      "Epoch: 20/100, step: 100/187, loss = 0.3402\n",
      "Epoch: 21/100, step: 100/187, loss = 0.6334\n",
      "Epoch: 22/100, step: 100/187, loss = 0.9153\n",
      "Epoch: 23/100, step: 100/187, loss = 0.7353\n",
      "Epoch: 24/100, step: 100/187, loss = 0.3657\n",
      "Epoch: 25/100, step: 100/187, loss = 0.4566\n",
      "Epoch: 26/100, step: 100/187, loss = 0.7220\n",
      "Epoch: 27/100, step: 100/187, loss = 0.5460\n",
      "Epoch: 28/100, step: 100/187, loss = 0.4334\n",
      "Epoch: 29/100, step: 100/187, loss = 0.4464\n",
      "Epoch: 30/100, step: 100/187, loss = 0.4312\n",
      "Epoch: 31/100, step: 100/187, loss = 0.4871\n",
      "Epoch: 32/100, step: 100/187, loss = 0.5776\n",
      "Epoch: 33/100, step: 100/187, loss = 0.4474\n",
      "Epoch: 34/100, step: 100/187, loss = 0.5760\n",
      "Epoch: 35/100, step: 100/187, loss = 1.0787\n",
      "Epoch: 36/100, step: 100/187, loss = 0.4624\n",
      "Epoch: 37/100, step: 100/187, loss = 0.3550\n",
      "Epoch: 38/100, step: 100/187, loss = 0.4467\n",
      "Epoch: 39/100, step: 100/187, loss = 0.4904\n",
      "Epoch: 40/100, step: 100/187, loss = 0.4490\n",
      "Epoch: 41/100, step: 100/187, loss = 0.3544\n",
      "Epoch: 42/100, step: 100/187, loss = 0.4105\n",
      "Epoch: 43/100, step: 100/187, loss = 0.6407\n",
      "Epoch: 44/100, step: 100/187, loss = 0.5526\n",
      "Epoch: 45/100, step: 100/187, loss = 0.6488\n",
      "Epoch: 46/100, step: 100/187, loss = 0.2683\n",
      "Epoch: 47/100, step: 100/187, loss = 0.7414\n",
      "Epoch: 48/100, step: 100/187, loss = 0.4711\n",
      "Epoch: 49/100, step: 100/187, loss = 0.6447\n",
      "Epoch: 50/100, step: 100/187, loss = 0.4805\n",
      "Epoch: 51/100, step: 100/187, loss = 0.3742\n",
      "Epoch: 52/100, step: 100/187, loss = 0.7779\n",
      "Epoch: 53/100, step: 100/187, loss = 0.3348\n",
      "Epoch: 54/100, step: 100/187, loss = 0.2706\n",
      "Epoch: 55/100, step: 100/187, loss = 0.2594\n",
      "Epoch: 56/100, step: 100/187, loss = 0.1161\n",
      "Epoch: 57/100, step: 100/187, loss = 0.2326\n",
      "Epoch: 58/100, step: 100/187, loss = 0.4918\n",
      "Epoch: 59/100, step: 100/187, loss = 0.2700\n",
      "Epoch: 60/100, step: 100/187, loss = 0.3332\n",
      "Epoch: 61/100, step: 100/187, loss = 0.3240\n",
      "Epoch: 62/100, step: 100/187, loss = 0.2341\n",
      "Epoch: 63/100, step: 100/187, loss = 0.2269\n",
      "Epoch: 64/100, step: 100/187, loss = 0.3995\n",
      "Epoch: 65/100, step: 100/187, loss = 0.3079\n",
      "Epoch: 66/100, step: 100/187, loss = 1.1674\n",
      "Epoch: 67/100, step: 100/187, loss = 0.5480\n",
      "Epoch: 68/100, step: 100/187, loss = 0.4550\n",
      "Epoch: 69/100, step: 100/187, loss = 0.1705\n",
      "Epoch: 70/100, step: 100/187, loss = 0.3707\n",
      "Epoch: 71/100, step: 100/187, loss = 0.0803\n",
      "Epoch: 72/100, step: 100/187, loss = 0.3313\n",
      "Epoch: 73/100, step: 100/187, loss = 0.3260\n",
      "Epoch: 74/100, step: 100/187, loss = 0.4049\n",
      "Epoch: 75/100, step: 100/187, loss = 0.2324\n",
      "Epoch: 76/100, step: 100/187, loss = 0.2968\n",
      "Epoch: 77/100, step: 100/187, loss = 0.3874\n",
      "Epoch: 78/100, step: 100/187, loss = 0.3166\n",
      "Epoch: 79/100, step: 100/187, loss = 0.4851\n",
      "Epoch: 80/100, step: 100/187, loss = 0.1500\n",
      "Epoch: 81/100, step: 100/187, loss = 0.2811\n",
      "Epoch: 82/100, step: 100/187, loss = 0.2359\n",
      "Epoch: 83/100, step: 100/187, loss = 0.3832\n",
      "Epoch: 84/100, step: 100/187, loss = 0.2821\n",
      "Epoch: 85/100, step: 100/187, loss = 0.2569\n",
      "Epoch: 86/100, step: 100/187, loss = 0.4391\n",
      "Epoch: 87/100, step: 100/187, loss = 0.2945\n",
      "Epoch: 88/100, step: 100/187, loss = 0.3663\n",
      "Epoch: 89/100, step: 100/187, loss = 0.1112\n",
      "Epoch: 90/100, step: 100/187, loss = 0.0836\n",
      "Epoch: 91/100, step: 100/187, loss = 0.2847\n",
      "Epoch: 92/100, step: 100/187, loss = 0.6680\n",
      "Epoch: 93/100, step: 100/187, loss = 0.3616\n",
      "Epoch: 94/100, step: 100/187, loss = 0.2368\n",
      "Epoch: 95/100, step: 100/187, loss = 0.0796\n",
      "Epoch: 96/100, step: 100/187, loss = 0.4943\n",
      "Epoch: 97/100, step: 100/187, loss = 0.0999\n",
      "Epoch: 98/100, step: 100/187, loss = 0.3909\n",
      "Epoch: 99/100, step: 100/187, loss = 0.2679\n",
      "Epoch: 100/100, step: 100/187, loss = 0.1237\n",
      "Training abgeschlossen in 100.19 Sekunden\n"
     ]
    },
    {
     "data": {
      "image/png": "[encoded data removed]",
      "text/plain": [
       "<Figure size 640x480 with 1 Axes>"
      ]
     },
     "metadata": {},
     "output_type": "display_data"
    }
   ],
   "source": [
    "train_model(model=model, num_epochs=NUM_EPOCHS, criterion=criterion, optimizer=optimizer, data=train_loader)"
   ]
  },
  {
   "cell_type": "code",
   "execution_count": 14,
   "id": "df1bb781",
   "metadata": {},
   "outputs": [
    {
     "name": "stdout",
     "output_type": "stream",
     "text": [
      "Accuracy auf den Testdatensatz 88.08%\n"
     ]
    }
   ],
   "source": [
    "evaluate(model, test_loader) #91.6"
   ]
  },
  {
   "cell_type": "code",
   "execution_count": 15,
   "id": "dbdd6385",
   "metadata": {},
   "outputs": [],
   "source": [
    "torch.save(model.state_dict(), './models/torchCNN.pth')"
   ]
  }
 ],
 "metadata": {
  "kernelspec": {
   "display_name": "Python 3.9.12 ('base')",
   "language": "python",
   "name": "python3"
  },
  "language_info": {
   "codemirror_mode": {
    "name": "ipython",
    "version": 3
   },
   "file_extension": ".py",
   "mimetype": "text/x-python",
   "name": "python",
   "nbconvert_exporter": "python",
   "pygments_lexer": "ipython3",
   "version": "3.9.12"
  },
  "vscode": {
   "interpreter": {
    "hash": "a0929711d380e35192f4cb7fc35982659e488768c1797b656fc22286d7128f20"
   }
  }
 },
 "nbformat": 4,
 "nbformat_minor": 5
}
